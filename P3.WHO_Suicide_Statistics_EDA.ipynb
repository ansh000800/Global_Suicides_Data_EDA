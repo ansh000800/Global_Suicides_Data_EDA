{
 "cells": [
  {
   "cell_type": "markdown",
   "id": "b8903d9e",
   "metadata": {},
   "source": [
    "                    WHO SUICIDE's STATISTICS EDA                      "
   ]
  },
  {
   "cell_type": "markdown",
   "id": "ab72341b",
   "metadata": {},
   "source": [
    "Importing neccessary libraries and Dataset for EDA"
   ]
  },
  {
   "cell_type": "code",
   "execution_count": 1,
   "id": "198f6919",
   "metadata": {},
   "outputs": [],
   "source": [
    "import pandas as pd \n",
    "import numpy as np \n",
    "import matplotlib.pyplot as plt \n",
    "import seaborn as sns"
   ]
  },
  {
   "cell_type": "code",
   "execution_count": 2,
   "id": "4b42b081",
   "metadata": {},
   "outputs": [],
   "source": [
    "df=pd.read_csv('who_suicide_statistics.csv',encoding='Utf-8')"
   ]
  },
  {
   "cell_type": "markdown",
   "id": "085d2a18",
   "metadata": {},
   "source": [
    "Strurcture of Data"
   ]
  },
  {
   "cell_type": "code",
   "execution_count": 24,
   "id": "f210222c",
   "metadata": {},
   "outputs": [
    {
     "name": "stdout",
     "output_type": "stream",
     "text": [
      "<class 'pandas.core.frame.DataFrame'>\n",
      "RangeIndex: 43776 entries, 0 to 43775\n",
      "Data columns (total 6 columns):\n",
      " #   Column       Non-Null Count  Dtype   \n",
      "---  ------       --------------  -----   \n",
      " 0   country      43776 non-null  object  \n",
      " 1   year         43776 non-null  int64   \n",
      " 2   sex          43776 non-null  category\n",
      " 3   age          43776 non-null  category\n",
      " 4   suicide_num  41520 non-null  float64 \n",
      " 5   population   38316 non-null  float64 \n",
      "dtypes: category(2), float64(2), int64(1), object(1)\n",
      "memory usage: 1.4+ MB\n"
     ]
    }
   ],
   "source": [
    "df.info()"
   ]
  },
  {
   "cell_type": "code",
   "execution_count": 25,
   "id": "4bf9c4dd",
   "metadata": {},
   "outputs": [
    {
     "data": {
      "text/plain": [
       "(43776, 6)"
      ]
     },
     "execution_count": 25,
     "metadata": {},
     "output_type": "execute_result"
    }
   ],
   "source": [
    "df.shape"
   ]
  },
  {
   "cell_type": "code",
   "execution_count": 26,
   "id": "785e6cc2",
   "metadata": {},
   "outputs": [
    {
     "data": {
      "text/html": [
       "<div>\n",
       "<style scoped>\n",
       "    .dataframe tbody tr th:only-of-type {\n",
       "        vertical-align: middle;\n",
       "    }\n",
       "\n",
       "    .dataframe tbody tr th {\n",
       "        vertical-align: top;\n",
       "    }\n",
       "\n",
       "    .dataframe thead th {\n",
       "        text-align: right;\n",
       "    }\n",
       "</style>\n",
       "<table border=\"1\" class=\"dataframe\">\n",
       "  <thead>\n",
       "    <tr style=\"text-align: right;\">\n",
       "      <th></th>\n",
       "      <th>year</th>\n",
       "      <th>suicide_num</th>\n",
       "      <th>population</th>\n",
       "    </tr>\n",
       "  </thead>\n",
       "  <tbody>\n",
       "    <tr>\n",
       "      <th>count</th>\n",
       "      <td>43776.000000</td>\n",
       "      <td>41520.000000</td>\n",
       "      <td>3.831600e+04</td>\n",
       "    </tr>\n",
       "    <tr>\n",
       "      <th>mean</th>\n",
       "      <td>1998.502467</td>\n",
       "      <td>193.315390</td>\n",
       "      <td>1.664091e+06</td>\n",
       "    </tr>\n",
       "    <tr>\n",
       "      <th>std</th>\n",
       "      <td>10.338711</td>\n",
       "      <td>800.589926</td>\n",
       "      <td>3.647231e+06</td>\n",
       "    </tr>\n",
       "    <tr>\n",
       "      <th>min</th>\n",
       "      <td>1979.000000</td>\n",
       "      <td>0.000000</td>\n",
       "      <td>2.590000e+02</td>\n",
       "    </tr>\n",
       "    <tr>\n",
       "      <th>25%</th>\n",
       "      <td>1990.000000</td>\n",
       "      <td>1.000000</td>\n",
       "      <td>8.511275e+04</td>\n",
       "    </tr>\n",
       "    <tr>\n",
       "      <th>50%</th>\n",
       "      <td>1999.000000</td>\n",
       "      <td>14.000000</td>\n",
       "      <td>3.806550e+05</td>\n",
       "    </tr>\n",
       "    <tr>\n",
       "      <th>75%</th>\n",
       "      <td>2007.000000</td>\n",
       "      <td>91.000000</td>\n",
       "      <td>1.305698e+06</td>\n",
       "    </tr>\n",
       "    <tr>\n",
       "      <th>max</th>\n",
       "      <td>2016.000000</td>\n",
       "      <td>22338.000000</td>\n",
       "      <td>4.380521e+07</td>\n",
       "    </tr>\n",
       "  </tbody>\n",
       "</table>\n",
       "</div>"
      ],
      "text/plain": [
       "               year   suicide_num    population\n",
       "count  43776.000000  41520.000000  3.831600e+04\n",
       "mean    1998.502467    193.315390  1.664091e+06\n",
       "std       10.338711    800.589926  3.647231e+06\n",
       "min     1979.000000      0.000000  2.590000e+02\n",
       "25%     1990.000000      1.000000  8.511275e+04\n",
       "50%     1999.000000     14.000000  3.806550e+05\n",
       "75%     2007.000000     91.000000  1.305698e+06\n",
       "max     2016.000000  22338.000000  4.380521e+07"
      ]
     },
     "execution_count": 26,
     "metadata": {},
     "output_type": "execute_result"
    }
   ],
   "source": [
    "df.describe()"
   ]
  },
  {
   "cell_type": "code",
   "execution_count": 27,
   "id": "8ece2883",
   "metadata": {},
   "outputs": [
    {
     "data": {
      "text/plain": [
       "Index(['country', 'year', 'sex', 'age', 'suicide_num', 'population'], dtype='object')"
      ]
     },
     "execution_count": 27,
     "metadata": {},
     "output_type": "execute_result"
    }
   ],
   "source": [
    "df.columns"
   ]
  },
  {
   "cell_type": "code",
   "execution_count": 34,
   "id": "d3d7e2d8",
   "metadata": {},
   "outputs": [
    {
     "data": {
      "text/html": [
       "<div>\n",
       "<style scoped>\n",
       "    .dataframe tbody tr th:only-of-type {\n",
       "        vertical-align: middle;\n",
       "    }\n",
       "\n",
       "    .dataframe tbody tr th {\n",
       "        vertical-align: top;\n",
       "    }\n",
       "\n",
       "    .dataframe thead th {\n",
       "        text-align: right;\n",
       "    }\n",
       "</style>\n",
       "<table border=\"1\" class=\"dataframe\">\n",
       "  <thead>\n",
       "    <tr style=\"text-align: right;\">\n",
       "      <th></th>\n",
       "      <th>country</th>\n",
       "      <th>year</th>\n",
       "      <th>sex</th>\n",
       "      <th>age</th>\n",
       "      <th>suicide_num</th>\n",
       "      <th>population</th>\n",
       "    </tr>\n",
       "  </thead>\n",
       "  <tbody>\n",
       "    <tr>\n",
       "      <th>0</th>\n",
       "      <td>Albania</td>\n",
       "      <td>1985</td>\n",
       "      <td>female</td>\n",
       "      <td>15-24 years</td>\n",
       "      <td>NaN</td>\n",
       "      <td>277900.0</td>\n",
       "    </tr>\n",
       "    <tr>\n",
       "      <th>1</th>\n",
       "      <td>Albania</td>\n",
       "      <td>1985</td>\n",
       "      <td>female</td>\n",
       "      <td>25-34 years</td>\n",
       "      <td>NaN</td>\n",
       "      <td>246800.0</td>\n",
       "    </tr>\n",
       "    <tr>\n",
       "      <th>2</th>\n",
       "      <td>Albania</td>\n",
       "      <td>1985</td>\n",
       "      <td>female</td>\n",
       "      <td>35-54 years</td>\n",
       "      <td>NaN</td>\n",
       "      <td>267500.0</td>\n",
       "    </tr>\n",
       "    <tr>\n",
       "      <th>3</th>\n",
       "      <td>Albania</td>\n",
       "      <td>1985</td>\n",
       "      <td>female</td>\n",
       "      <td>5-14 years</td>\n",
       "      <td>NaN</td>\n",
       "      <td>298300.0</td>\n",
       "    </tr>\n",
       "    <tr>\n",
       "      <th>4</th>\n",
       "      <td>Albania</td>\n",
       "      <td>1985</td>\n",
       "      <td>female</td>\n",
       "      <td>55-74 years</td>\n",
       "      <td>NaN</td>\n",
       "      <td>138700.0</td>\n",
       "    </tr>\n",
       "    <tr>\n",
       "      <th>5</th>\n",
       "      <td>Albania</td>\n",
       "      <td>1985</td>\n",
       "      <td>female</td>\n",
       "      <td>75+ years</td>\n",
       "      <td>NaN</td>\n",
       "      <td>34200.0</td>\n",
       "    </tr>\n",
       "    <tr>\n",
       "      <th>6</th>\n",
       "      <td>Albania</td>\n",
       "      <td>1985</td>\n",
       "      <td>male</td>\n",
       "      <td>15-24 years</td>\n",
       "      <td>NaN</td>\n",
       "      <td>301400.0</td>\n",
       "    </tr>\n",
       "    <tr>\n",
       "      <th>7</th>\n",
       "      <td>Albania</td>\n",
       "      <td>1985</td>\n",
       "      <td>male</td>\n",
       "      <td>25-34 years</td>\n",
       "      <td>NaN</td>\n",
       "      <td>264200.0</td>\n",
       "    </tr>\n",
       "    <tr>\n",
       "      <th>8</th>\n",
       "      <td>Albania</td>\n",
       "      <td>1985</td>\n",
       "      <td>male</td>\n",
       "      <td>35-54 years</td>\n",
       "      <td>NaN</td>\n",
       "      <td>296700.0</td>\n",
       "    </tr>\n",
       "    <tr>\n",
       "      <th>9</th>\n",
       "      <td>Albania</td>\n",
       "      <td>1985</td>\n",
       "      <td>male</td>\n",
       "      <td>5-14 years</td>\n",
       "      <td>NaN</td>\n",
       "      <td>325800.0</td>\n",
       "    </tr>\n",
       "  </tbody>\n",
       "</table>\n",
       "</div>"
      ],
      "text/plain": [
       "   country  year     sex          age  suicide_num  population\n",
       "0  Albania  1985  female  15-24 years          NaN    277900.0\n",
       "1  Albania  1985  female  25-34 years          NaN    246800.0\n",
       "2  Albania  1985  female  35-54 years          NaN    267500.0\n",
       "3  Albania  1985  female   5-14 years          NaN    298300.0\n",
       "4  Albania  1985  female  55-74 years          NaN    138700.0\n",
       "5  Albania  1985  female    75+ years          NaN     34200.0\n",
       "6  Albania  1985    male  15-24 years          NaN    301400.0\n",
       "7  Albania  1985    male  25-34 years          NaN    264200.0\n",
       "8  Albania  1985    male  35-54 years          NaN    296700.0\n",
       "9  Albania  1985    male   5-14 years          NaN    325800.0"
      ]
     },
     "execution_count": 34,
     "metadata": {},
     "output_type": "execute_result"
    }
   ],
   "source": [
    "df.head(10)"
   ]
  },
  {
   "cell_type": "markdown",
   "id": "b3c27476",
   "metadata": {},
   "source": [
    "Data Preprocessing and Data Cleaning."
   ]
  },
  {
   "cell_type": "code",
   "execution_count": 23,
   "id": "5ffed55b",
   "metadata": {},
   "outputs": [],
   "source": [
    "# Renaming the suicide_no column to suicide_num\n",
    "df.rename(columns={'suicides_no':'suicide_num'},inplace=True)"
   ]
  },
  {
   "cell_type": "code",
   "execution_count": 29,
   "id": "99e6ffda",
   "metadata": {},
   "outputs": [
    {
     "data": {
      "text/plain": [
       "country          object\n",
       "year              int64\n",
       "sex            category\n",
       "age            category\n",
       "suicide_num     float64\n",
       "population      float64\n",
       "dtype: object"
      ]
     },
     "execution_count": 29,
     "metadata": {},
     "output_type": "execute_result"
    }
   ],
   "source": [
    "# checking the data types of columns.\n",
    "df.dtypes"
   ]
  },
  {
   "cell_type": "code",
   "execution_count": 30,
   "id": "8116547a",
   "metadata": {},
   "outputs": [],
   "source": [
    "# Converting the data types of columns.\n",
    "df['sex']=df['sex'].astype('category')\n",
    "df['age']=df['age'].astype('category')"
   ]
  },
  {
   "cell_type": "code",
   "execution_count": 31,
   "id": "e9d6aed2",
   "metadata": {},
   "outputs": [
    {
     "data": {
      "text/plain": [
       "np.False_"
      ]
     },
     "execution_count": 31,
     "metadata": {},
     "output_type": "execute_result"
    }
   ],
   "source": [
    "# checking for duplicate values in dataset.\n",
    "df.duplicated().any()\n",
    "# No duplicate values in our dataset."
   ]
  },
  {
   "cell_type": "code",
   "execution_count": 32,
   "id": "1db0d3fa",
   "metadata": {},
   "outputs": [
    {
     "data": {
      "text/plain": [
       "country           0\n",
       "year              0\n",
       "sex               0\n",
       "age               0\n",
       "suicide_num    2256\n",
       "population     5460\n",
       "dtype: int64"
      ]
     },
     "execution_count": 32,
     "metadata": {},
     "output_type": "execute_result"
    }
   ],
   "source": [
    "# checking for missing values .\n",
    "df.isnull().sum()"
   ]
  },
  {
   "cell_type": "code",
   "execution_count": 36,
   "id": "231bd5a7",
   "metadata": {},
   "outputs": [
    {
     "name": "stderr",
     "output_type": "stream",
     "text": [
      "C:\\Users\\Anshul Sharma\\AppData\\Local\\Temp\\ipykernel_10520\\3393242083.py:4: FutureWarning: A value is trying to be set on a copy of a DataFrame or Series through chained assignment using an inplace method.\n",
      "The behavior will change in pandas 3.0. This inplace method will never work because the intermediate object on which we are setting values always behaves as a copy.\n",
      "\n",
      "For example, when doing 'df[col].method(value, inplace=True)', try using 'df.method({col: value}, inplace=True)' or df[col] = df[col].method(value) instead, to perform the operation inplace on the original object.\n",
      "\n",
      "\n",
      "  df['suicide_num'].fillna(0,inplace=True)\n"
     ]
    }
   ],
   "source": [
    "# we have two columns in our dataset suicide_num and population.\n",
    "\n",
    "# 1. The suicide_num can be 0 if no values are written in it means their is no suicides for that year in that country.\n",
    "df['suicide_num'].fillna(0,inplace=True)\n",
    "\n",
    "# 2. the population data for a country in the same year will also be same so we can fill our null values by the previous and later data rows .\n",
    "df['population']=df.groupby(['country','year'])['population'].transform(lambda x:x.ffill().bfill())"
   ]
  },
  {
   "cell_type": "code",
   "execution_count": 39,
   "id": "b09e4710",
   "metadata": {},
   "outputs": [
    {
     "data": {
      "text/plain": [
       "country           0\n",
       "year              0\n",
       "sex               0\n",
       "age               0\n",
       "suicide_num       0\n",
       "population     5460\n",
       "dtype: int64"
      ]
     },
     "execution_count": 39,
     "metadata": {},
     "output_type": "execute_result"
    }
   ],
   "source": [
    "df.isnull().sum()"
   ]
  },
  {
   "cell_type": "markdown",
   "id": "24e4cad1",
   "metadata": {},
   "source": [
    "From above data we can see that after filling the null values their are some rows or can say countries which have no population values \n",
    "so for that we will download the population dataset from externally and use it for filling the missing population values."
   ]
  },
  {
   "cell_type": "code",
   "execution_count": null,
   "id": "af6d5982",
   "metadata": {},
   "outputs": [
    {
     "name": "stdout",
     "output_type": "stream",
     "text": [
      "['Anguilla', 'Bolivia', 'British Virgin Islands', 'Dominican Republic', 'Falkland Islands (Malvinas)', 'Haiti', 'Honduras', 'Iraq', 'Jordan', 'Malaysia', 'Monaco', 'Montserrat', 'Morocco', 'Netherlands Antilles', 'Occupied Palestinian Territory', 'Peru', 'Saint Pierre and Miquelon', 'Saudi Arabia', 'Syrian Arab Republic', 'Tajikistan', 'Tunisia', 'Turks and Caicos Islands', 'Zimbabwe']\n"
     ]
    }
   ],
   "source": [
    "# list of countries which have no data of population.\n",
    "no_population_countries = df.groupby('country')['population'].apply(lambda x: x.isnull().all())\n",
    "no_population_countries = no_population_countries[no_population_countries].index.tolist()\n",
    "print(no_population_countries)\n"
   ]
  },
  {
   "cell_type": "markdown",
   "id": "eb43d0de",
   "metadata": {},
   "source": [
    "Importing the new dataset population.csv for filling the missing values of population in pop_df dataframe"
   ]
  },
  {
   "cell_type": "code",
   "execution_count": null,
   "id": "5114ee9c",
   "metadata": {},
   "outputs": [
    {
     "data": {
      "text/html": [
       "<div>\n",
       "<style scoped>\n",
       "    .dataframe tbody tr th:only-of-type {\n",
       "        vertical-align: middle;\n",
       "    }\n",
       "\n",
       "    .dataframe tbody tr th {\n",
       "        vertical-align: top;\n",
       "    }\n",
       "\n",
       "    .dataframe thead th {\n",
       "        text-align: right;\n",
       "    }\n",
       "</style>\n",
       "<table border=\"1\" class=\"dataframe\">\n",
       "  <thead>\n",
       "    <tr style=\"text-align: right;\">\n",
       "      <th></th>\n",
       "      <th>Country Name</th>\n",
       "      <th>Country Code</th>\n",
       "      <th>Year</th>\n",
       "      <th>Value</th>\n",
       "    </tr>\n",
       "  </thead>\n",
       "  <tbody>\n",
       "    <tr>\n",
       "      <th>0</th>\n",
       "      <td>Aruba</td>\n",
       "      <td>ABW</td>\n",
       "      <td>1960</td>\n",
       "      <td>54922.0</td>\n",
       "    </tr>\n",
       "    <tr>\n",
       "      <th>1</th>\n",
       "      <td>Aruba</td>\n",
       "      <td>ABW</td>\n",
       "      <td>1961</td>\n",
       "      <td>55578.0</td>\n",
       "    </tr>\n",
       "    <tr>\n",
       "      <th>2</th>\n",
       "      <td>Aruba</td>\n",
       "      <td>ABW</td>\n",
       "      <td>1962</td>\n",
       "      <td>56320.0</td>\n",
       "    </tr>\n",
       "    <tr>\n",
       "      <th>3</th>\n",
       "      <td>Aruba</td>\n",
       "      <td>ABW</td>\n",
       "      <td>1963</td>\n",
       "      <td>57002.0</td>\n",
       "    </tr>\n",
       "    <tr>\n",
       "      <th>4</th>\n",
       "      <td>Aruba</td>\n",
       "      <td>ABW</td>\n",
       "      <td>1964</td>\n",
       "      <td>57619.0</td>\n",
       "    </tr>\n",
       "  </tbody>\n",
       "</table>\n",
       "</div>"
      ],
      "text/plain": [
       "  Country Name Country Code  Year    Value\n",
       "0        Aruba          ABW  1960  54922.0\n",
       "1        Aruba          ABW  1961  55578.0\n",
       "2        Aruba          ABW  1962  56320.0\n",
       "3        Aruba          ABW  1963  57002.0\n",
       "4        Aruba          ABW  1964  57619.0"
      ]
     },
     "execution_count": 53,
     "metadata": {},
     "output_type": "execute_result"
    }
   ],
   "source": [
    "\n",
    "pop_df=pd.read_csv('population.csv')\n",
    "pop_df.head()"
   ]
  },
  {
   "cell_type": "code",
   "execution_count": null,
   "id": "9e29df64",
   "metadata": {},
   "outputs": [],
   "source": [
    "# Dropping the unnecessary columns from dataset.\n",
    "pop_df.drop(columns=['Country Code'], inplace=True)"
   ]
  },
  {
   "cell_type": "code",
   "execution_count": null,
   "id": "2f8e9ef6",
   "metadata": {},
   "outputs": [],
   "source": [
    "# Renaming the columns \n",
    "pop_df.rename(columns={'Country Name': 'country'}, inplace=True)\n",
    "pop_df.rename(columns={'Year': 'year'}, inplace=True)\n",
    "\n"
   ]
  },
  {
   "cell_type": "code",
   "execution_count": null,
   "id": "0075b96c",
   "metadata": {},
   "outputs": [],
   "source": [
    "# making new dataframe by merging both the dataframe df and population dataframe.\n",
    "updated_df = pd.merge(\n",
    "    df,\n",
    "    pop_df,\n",
    "    on=['country', 'year'],\n",
    "    how='left',\n",
    "    suffixes=('', '_pop')\n",
    ")"
   ]
  },
  {
   "cell_type": "code",
   "execution_count": null,
   "id": "6929d8cb",
   "metadata": {},
   "outputs": [],
   "source": [
    "# filling the missing values of population in updated df.\n",
    "updated_df['population'] = updated_df['population'].fillna(updated_df['Value'])\n"
   ]
  },
  {
   "cell_type": "code",
   "execution_count": null,
   "id": "0c907553",
   "metadata": {},
   "outputs": [],
   "source": [
    "# removing the unnecessary columns from new updated df\n",
    "updated_df.drop(columns=['Value'], inplace=True)\n"
   ]
  },
  {
   "cell_type": "markdown",
   "id": "0cdd1328",
   "metadata": {},
   "source": [
    "Checking the structure of updated_df."
   ]
  },
  {
   "cell_type": "code",
   "execution_count": 70,
   "id": "2c1d1e0e",
   "metadata": {},
   "outputs": [
    {
     "data": {
      "text/html": [
       "<div>\n",
       "<style scoped>\n",
       "    .dataframe tbody tr th:only-of-type {\n",
       "        vertical-align: middle;\n",
       "    }\n",
       "\n",
       "    .dataframe tbody tr th {\n",
       "        vertical-align: top;\n",
       "    }\n",
       "\n",
       "    .dataframe thead th {\n",
       "        text-align: right;\n",
       "    }\n",
       "</style>\n",
       "<table border=\"1\" class=\"dataframe\">\n",
       "  <thead>\n",
       "    <tr style=\"text-align: right;\">\n",
       "      <th></th>\n",
       "      <th>country</th>\n",
       "      <th>year</th>\n",
       "      <th>sex</th>\n",
       "      <th>age</th>\n",
       "      <th>suicide_num</th>\n",
       "      <th>population</th>\n",
       "    </tr>\n",
       "  </thead>\n",
       "  <tbody>\n",
       "    <tr>\n",
       "      <th>0</th>\n",
       "      <td>Albania</td>\n",
       "      <td>1985</td>\n",
       "      <td>female</td>\n",
       "      <td>15-24 years</td>\n",
       "      <td>0.0</td>\n",
       "      <td>277900.0</td>\n",
       "    </tr>\n",
       "    <tr>\n",
       "      <th>1</th>\n",
       "      <td>Albania</td>\n",
       "      <td>1985</td>\n",
       "      <td>female</td>\n",
       "      <td>25-34 years</td>\n",
       "      <td>0.0</td>\n",
       "      <td>246800.0</td>\n",
       "    </tr>\n",
       "    <tr>\n",
       "      <th>2</th>\n",
       "      <td>Albania</td>\n",
       "      <td>1985</td>\n",
       "      <td>female</td>\n",
       "      <td>35-54 years</td>\n",
       "      <td>0.0</td>\n",
       "      <td>267500.0</td>\n",
       "    </tr>\n",
       "    <tr>\n",
       "      <th>3</th>\n",
       "      <td>Albania</td>\n",
       "      <td>1985</td>\n",
       "      <td>female</td>\n",
       "      <td>5-14 years</td>\n",
       "      <td>0.0</td>\n",
       "      <td>298300.0</td>\n",
       "    </tr>\n",
       "    <tr>\n",
       "      <th>4</th>\n",
       "      <td>Albania</td>\n",
       "      <td>1985</td>\n",
       "      <td>female</td>\n",
       "      <td>55-74 years</td>\n",
       "      <td>0.0</td>\n",
       "      <td>138700.0</td>\n",
       "    </tr>\n",
       "  </tbody>\n",
       "</table>\n",
       "</div>"
      ],
      "text/plain": [
       "   country  year     sex          age  suicide_num  population\n",
       "0  Albania  1985  female  15-24 years          0.0    277900.0\n",
       "1  Albania  1985  female  25-34 years          0.0    246800.0\n",
       "2  Albania  1985  female  35-54 years          0.0    267500.0\n",
       "3  Albania  1985  female   5-14 years          0.0    298300.0\n",
       "4  Albania  1985  female  55-74 years          0.0    138700.0"
      ]
     },
     "execution_count": 70,
     "metadata": {},
     "output_type": "execute_result"
    }
   ],
   "source": [
    "updated_df.head()"
   ]
  },
  {
   "cell_type": "code",
   "execution_count": 72,
   "id": "60f33830",
   "metadata": {},
   "outputs": [
    {
     "name": "stdout",
     "output_type": "stream",
     "text": [
      "<class 'pandas.core.frame.DataFrame'>\n",
      "RangeIndex: 43776 entries, 0 to 43775\n",
      "Data columns (total 6 columns):\n",
      " #   Column       Non-Null Count  Dtype   \n",
      "---  ------       --------------  -----   \n",
      " 0   country      43776 non-null  object  \n",
      " 1   year         43776 non-null  int64   \n",
      " 2   sex          43776 non-null  category\n",
      " 3   age          43776 non-null  category\n",
      " 4   suicide_num  43776 non-null  float64 \n",
      " 5   population   42360 non-null  float64 \n",
      "dtypes: category(2), float64(2), int64(1), object(1)\n",
      "memory usage: 1.4+ MB\n"
     ]
    }
   ],
   "source": [
    "updated_df.info()"
   ]
  },
  {
   "cell_type": "code",
   "execution_count": null,
   "id": "a7fdf1f5",
   "metadata": {},
   "outputs": [
    {
     "data": {
      "text/plain": [
       "country           0\n",
       "year              0\n",
       "sex               0\n",
       "age               0\n",
       "suicide_num       0\n",
       "population     1416\n",
       "dtype: int64"
      ]
     },
     "execution_count": 73,
     "metadata": {},
     "output_type": "execute_result"
    }
   ],
   "source": [
    "# Checking the null values.\n",
    "updated_df.isnull().sum()\n",
    "# their are stiil some missing values in population. (less than before)"
   ]
  },
  {
   "cell_type": "code",
   "execution_count": null,
   "id": "52fdd7fa",
   "metadata": {},
   "outputs": [],
   "source": [
    "# trying to fill the missing values of population.\n",
    "updated_df['population']=updated_df.groupby(['country','year'])['population'].transform(lambda x:x.ffill().bfill())"
   ]
  },
  {
   "cell_type": "code",
   "execution_count": null,
   "id": "d882bb2d",
   "metadata": {},
   "outputs": [
    {
     "data": {
      "text/plain": [
       "country           0\n",
       "year              0\n",
       "sex               0\n",
       "age               0\n",
       "suicide_num       0\n",
       "population     1416\n",
       "dtype: int64"
      ]
     },
     "execution_count": 75,
     "metadata": {},
     "output_type": "execute_result"
    }
   ],
   "source": [
    "# checking for missing values again still no values are filled .\n",
    "updated_df.isnull().sum()"
   ]
  },
  {
   "cell_type": "code",
   "execution_count": null,
   "id": "e95b4827",
   "metadata": {},
   "outputs": [
    {
     "name": "stdout",
     "output_type": "stream",
     "text": [
      "['Anguilla', 'Falkland Islands (Malvinas)', 'Montserrat', 'Netherlands Antilles', 'Occupied Palestinian Territory', 'Saint Pierre and Miquelon']\n"
     ]
    }
   ],
   "source": [
    "# still some countries have missing values of population .\n",
    "# list of countries.\n",
    "no_population_countries = updated_df.groupby('country')['population'].apply(lambda x: x.isnull().all())\n",
    "no_population_countries = no_population_countries[no_population_countries].index.tolist()\n",
    "print(no_population_countries)"
   ]
  },
  {
   "cell_type": "code",
   "execution_count": 78,
   "id": "f075b853",
   "metadata": {},
   "outputs": [
    {
     "data": {
      "text/plain": [
       "(43776, 6)"
      ]
     },
     "execution_count": 78,
     "metadata": {},
     "output_type": "execute_result"
    }
   ],
   "source": [
    "updated_df.shape"
   ]
  },
  {
   "cell_type": "markdown",
   "id": "23436f00",
   "metadata": {},
   "source": [
    "Their are more than 43k rows in data but only 1416 rows have missing values .\n",
    "So we are dropping thode null values rows ."
   ]
  },
  {
   "cell_type": "code",
   "execution_count": 79,
   "id": "48f10ff7",
   "metadata": {},
   "outputs": [],
   "source": [
    "# dropping the null values rows .\n",
    "updated_df.dropna(inplace=True)"
   ]
  },
  {
   "cell_type": "code",
   "execution_count": 81,
   "id": "7fa9827e",
   "metadata": {},
   "outputs": [
    {
     "data": {
      "text/plain": [
       "np.int64(0)"
      ]
     },
     "execution_count": 81,
     "metadata": {},
     "output_type": "execute_result"
    }
   ],
   "source": [
    "# checking for duplocate values in updated_df\n",
    "updated_df.duplicated().sum()"
   ]
  },
  {
   "cell_type": "markdown",
   "id": "e860affc",
   "metadata": {},
   "source": [
    "No duplicated values in updated_df "
   ]
  },
  {
   "cell_type": "code",
   "execution_count": 82,
   "id": "93ccab83",
   "metadata": {},
   "outputs": [
    {
     "name": "stdout",
     "output_type": "stream",
     "text": [
      "<class 'pandas.core.frame.DataFrame'>\n",
      "Index: 42360 entries, 0 to 43775\n",
      "Data columns (total 6 columns):\n",
      " #   Column       Non-Null Count  Dtype   \n",
      "---  ------       --------------  -----   \n",
      " 0   country      42360 non-null  object  \n",
      " 1   year         42360 non-null  int64   \n",
      " 2   sex          42360 non-null  category\n",
      " 3   age          42360 non-null  category\n",
      " 4   suicide_num  42360 non-null  float64 \n",
      " 5   population   42360 non-null  float64 \n",
      "dtypes: category(2), float64(2), int64(1), object(1)\n",
      "memory usage: 1.7+ MB\n"
     ]
    }
   ],
   "source": [
    "updated_df.info()"
   ]
  },
  {
   "cell_type": "markdown",
   "id": "705dd6ae",
   "metadata": {},
   "source": [
    "                            VISUALIZATION                           "
   ]
  },
  {
   "cell_type": "markdown",
   "id": "cf910581",
   "metadata": {},
   "source": [
    "1. What is the suicide trend over the years globally?"
   ]
  },
  {
   "cell_type": "code",
   "execution_count": 100,
   "id": "ed3e3a27",
   "metadata": {},
   "outputs": [
    {
     "data": {
      "image/png": "[encoded data removed]",
      "text/plain": [
       "<Figure size 800x500 with 1 Axes>"
      ]
     },
     "metadata": {},
     "output_type": "display_data"
    }
   ],
   "source": [
    "plt.figure(figsize=(8,5))\n",
    "suicide_trends=updated_df.groupby('year')['suicide_num'].sum()\n",
    "plt.plot(suicide_trends.index,suicide_trends.values,color='red',marker='o')\n",
    "\n",
    "year_ticks = np.arange(suicide_trends.index.min(), suicide_trends.index.max()+1, 5)\n",
    "plt.xticks(year_ticks, rotation=45)\n",
    "\n",
    "plt.xlabel('Year')\n",
    "plt.ylabel('Suicides')\n",
    "plt.title(\"Suicide Trends Over Years\")\n",
    "plt.grid(True)\n",
    "plt.tight_layout()\n",
    "plt.show()"
   ]
  },
  {
   "cell_type": "markdown",
   "id": "c5bbe4a6",
   "metadata": {},
   "source": [
    "The line is showing that after 2014 the cases of suicides are drastically reduced. "
   ]
  },
  {
   "cell_type": "markdown",
   "id": "07b87e0a",
   "metadata": {},
   "source": [
    "2. Which countries have the highest suicide numbers overall?"
   ]
  },
  {
   "cell_type": "code",
   "execution_count": 109,
   "id": "e5f209cd",
   "metadata": {},
   "outputs": [
    {
     "data": {
      "image/png": "[encoded data removed]",
      "text/plain": [
       "<Figure size 1100x500 with 1 Axes>"
      ]
     },
     "metadata": {},
     "output_type": "display_data"
    }
   ],
   "source": [
    "plt.figure(figsize=(11,5))\n",
    "\n",
    "country_suicide=updated_df.groupby('country')['suicide_num'].sum().sort_values(ascending=False).head(5)\n",
    "\n",
    "cs=sns.barplot(x=country_suicide.index,y=country_suicide.values,hue=country_suicide.index,legend=False,palette='Set2')\n",
    "\n",
    "for container in cs.containers:\n",
    "    cs.bar_label(container,label_type='edge')\n",
    "\n",
    "plt.xlabel('Countries')\n",
    "plt.ylabel('Suicide Cases (in lakhs)')\n",
    "plt.title(\"Top 5 Countries in Suicide Cases\")\n",
    "plt.show()"
   ]
  },
  {
   "cell_type": "markdown",
   "id": "8c864f80",
   "metadata": {},
   "source": [
    "We can See that the Russian Federation has the highest number of cases in suicides from 1979 to 2016"
   ]
  },
  {
   "cell_type": "markdown",
   "id": "8d0373ad",
   "metadata": {},
   "source": [
    "3. What is the suicide distribution by sex?"
   ]
  },
  {
   "cell_type": "code",
   "execution_count": 115,
   "id": "d35f1113",
   "metadata": {},
   "outputs": [
    {
     "data": {
      "image/png": "[encoded data removed]",
      "text/plain": [
       "<Figure size 400x400 with 1 Axes>"
      ]
     },
     "metadata": {},
     "output_type": "display_data"
    }
   ],
   "source": [
    "sd=updated_df.groupby('sex',observed=True)['suicide_num'].sum()\n",
    "\n",
    "plt.figure(figsize=(4,4))\n",
    "plt.pie(sd,labels=sd.index,autopct='%1.1f%%',startangle=90)\n",
    "plt.axis('equal')\n",
    "plt.show()"
   ]
  },
  {
   "cell_type": "markdown",
   "id": "97cc3527",
   "metadata": {},
   "source": [
    "The suicides are attempted by the males 3/4 times more than Females."
   ]
  },
  {
   "cell_type": "markdown",
   "id": "0c819abc",
   "metadata": {},
   "source": [
    "4. Which age groups are most vulnerable to suicide?"
   ]
  },
  {
   "cell_type": "code",
   "execution_count": 119,
   "id": "8fafe6b9",
   "metadata": {},
   "outputs": [
    {
     "data": {
      "image/png": "[encoded data removed]",
      "text/plain": [
       "<Figure size 800x500 with 1 Axes>"
      ]
     },
     "metadata": {},
     "output_type": "display_data"
    }
   ],
   "source": [
    "age_grp=updated_df.groupby('age',observed=True)['suicide_num'].sum()\n",
    "plt.figure(figsize=(8,5))\n",
    "age_grp_sc=sns.barplot(x=age_grp.index,y=age_grp.values,hue=age_grp.index,legend=False,palette='Set2')\n",
    "\n",
    "for conatiner in age_grp_sc.containers:\n",
    "    age_grp_sc.bar_label(conatiner,label_type='edge')\n",
    "\n",
    "plt.title('Suicide Cases vs Age Groups')\n",
    "plt.xlabel('Age Groups')\n",
    "plt.ylabel('Suicide Cases(in 10 lakhs)')\n",
    "plt.show()"
   ]
  },
  {
   "cell_type": "markdown",
   "id": "5d80c393",
   "metadata": {},
   "source": [
    "The Age Group of 35-54 years have highest number of suicide cases ."
   ]
  },
  {
   "cell_type": "markdown",
   "id": "f250444e",
   "metadata": {},
   "source": [
    "5. What is the suicide rate per 100,000 population over the years?"
   ]
  },
  {
   "cell_type": "code",
   "execution_count": 140,
   "id": "0b036b6f",
   "metadata": {},
   "outputs": [
    {
     "data": {
      "image/png": "[encoded data removed]",
      "text/plain": [
       "<Figure size 1000x500 with 1 Axes>"
      ]
     },
     "metadata": {},
     "output_type": "display_data"
    }
   ],
   "source": [
    "updated_df['suicide_rate'] = (updated_df['suicide_num'] / updated_df['population']) * 100000\n",
    "rate_by_year = updated_df.groupby('year')['suicide_rate'].mean()\n",
    "\n",
    "plt.figure(figsize=(10,5))\n",
    "plt.plot(rate_by_year.index,rate_by_year.values,color='black',marker='o')\n",
    "\n",
    "plt.xticks(ticks=range(rate_by_year.index.min(), rate_by_year.index.max() + 1, 5))\n",
    "\n",
    "plt.xlabel('Year')\n",
    "plt.ylabel('Suicide Rate per 100k')\n",
    "plt.grid(True)\n",
    "plt.tight_layout()\n",
    "plt.show()\n"
   ]
  },
  {
   "cell_type": "code",
   "execution_count": null,
   "id": "bff844d9",
   "metadata": {},
   "outputs": [],
   "source": []
  },
  {
   "cell_type": "code",
   "execution_count": null,
   "id": "bd05da60",
   "metadata": {},
   "outputs": [],
   "source": []
  }
 ],
 "metadata": {
  "kernelspec": {
   "display_name": "venv",
   "language": "python",
   "name": "python3"
  },
  "language_info": {
   "codemirror_mode": {
    "name": "ipython",
    "version": 3
   },
   "file_extension": ".py",
   "mimetype": "text/x-python",
   "name": "python",
   "nbconvert_exporter": "python",
   "pygments_lexer": "ipython3",
   "version": "3.12.2"
  }
 },
 "nbformat": 4,
 "nbformat_minor": 5
}
